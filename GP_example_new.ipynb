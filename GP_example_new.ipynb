{
 "cells": [
  {
   "cell_type": "markdown",
   "metadata": {},
   "source": [
    "## Summary of Changes (Jul 2024)\n",
    "\n",
    "- Instead of averging out the replicates - you now input a dataframe with columns \"gene, timepoint, replicate\"\n",
    "  - The code takes the data and performs min-max normalisation *by replicate*.\n",
    "  - It then merges the dataframes for parent and child gene by both timepoint and replicate\n",
    "  - Hence, instead of giving it 10 datapoints for 10 timepoints - it now takes 30 datapoints (if you have 3 replicates for each timepoint)\n",
    "- Added an option for \"Shift timepoints\".\n",
    "  - instead of comparing expression levels for timepoint t between parent and child, you have the option to check for if parents expression at t explains t+1 expression for the child\n",
    "  - set it True or False\n",
    "  - Might make network inference more 'logical'.\n",
    "  \n",
    "- Change in line 115 in GRN functions.py - minor. (Consequence - Cannot do 2 parents against 1 child simultaneously, only 1 to 1 interactions without making changes to the code below.)\n",
    "  \n",
    "##### Important: Make sure you have equal number of replicates for each gene. (Don't mix and match genes from different dataset - it will result in NaNs that you will have to take care of yourself :))"
   ]
  },
  {
   "cell_type": "code",
   "execution_count": 1,
   "metadata": {},
   "outputs": [],
   "source": [
    "from GRN_functions import *\n",
    "\n",
    "import pyreadr \n",
    "import networkx as nx"
   ]
  },
  {
   "cell_type": "code",
   "execution_count": 6,
   "metadata": {},
   "outputs": [],
   "source": [
    "# Read the dummy data\n",
    "expression_data = pd.read_csv(\"dummy_data_format.csv\")\n",
    "\n",
    "\n",
    "parent_genes = [\"G1\", \"G2\"]\n",
    "child_genes = [\"G3\"]\n",
    "shift_timepoints = True\n",
    "parent_child_gene_dict = {}\n",
    "\n",
    "def normalise_expression_data_by_replicates(expression_df: pd.DataFrame) -> pd.DataFrame:\n",
    "    replicates = expression_df[\"replicate\"].unique()\n",
    "    pivoted_expression_data = expression_df.pivot_table(values=\"tpm\", index=\"timepoint\", columns=\"replicate\")\n",
    "    for replicate in replicates:\n",
    "        pivoted_expression_data[replicate] = (pivoted_expression_data[replicate] - min(pivoted_expression_data[replicate]))/(max(pivoted_expression_data[replicate]) - min(pivoted_expression_data[replicate]))\n",
    "    return pd.melt(pivoted_expression_data.reset_index(), id_vars=\"timepoint\", value_name=\"tpm\")\n",
    "\n",
    "for parent_gene in parent_genes:\n",
    "    expression_data_parent = expression_data[expression_data[\"gene\"] == parent_gene][[\"tpm\", \"replicate\", \"timepoint\"]].copy(deep=True).reset_index(drop=True)\n",
    "    expression_data_parent = normalise_expression_data_by_replicates(expression_data_parent)\n",
    "\n",
    "    for child_gene in child_genes:\n",
    "        expression_data_child = expression_data[expression_data[\"gene\"] == child_gene][[\"tpm\", \"replicate\", \"timepoint\"]].copy(deep=True).reset_index(drop=True)\n",
    "        expression_data_child = normalise_expression_data_by_replicates(expression_data_child)\n",
    "\n",
    "        if shift_timepoints:\n",
    "            timepoints = expression_data_child[\"timepoint\"].unique()\n",
    "            # remove the first timepoint \n",
    "            expression_data_child = expression_data_child[expression_data_child[\"timepoint\"] > timepoints[0]]\n",
    "            # replace each timepoint with its previous timepoint\n",
    "            expression_data_child[\"timepoint\"].replace({timepoint: timepoints[i-1] for i, timepoint in enumerate(timepoints) if i > 0}, inplace=True)\n",
    "\n",
    "        expression_data_parent_child = pd.merge(left=expression_data_parent,right=expression_data_child, \n",
    "                                                how=\"inner\", \n",
    "                                                on=[\"timepoint\", \"replicate\"],\n",
    "                                                suffixes=[\"_parent\", \"_child\"])\n",
    "        parent_child_gene_dict[f\"{parent_gene}-{child_gene}\"] = [expression_data_parent_child[\"tpm_parent\"].to_numpy().reshape(-1,1), expression_data_parent_child[\"tpm_child\"].to_numpy().reshape(-1,1)]"
   ]
  },
  {
   "cell_type": "code",
   "execution_count": 7,
   "metadata": {},
   "outputs": [],
   "source": [
    "network = get_network(parent_child_gene_dict)"
   ]
  },
  {
   "cell_type": "code",
   "execution_count": 8,
   "metadata": {},
   "outputs": [
    {
     "data": {
      "text/html": [
       "<div>\n",
       "<style scoped>\n",
       "    .dataframe tbody tr th:only-of-type {\n",
       "        vertical-align: middle;\n",
       "    }\n",
       "\n",
       "    .dataframe tbody tr th {\n",
       "        vertical-align: top;\n",
       "    }\n",
       "\n",
       "    .dataframe thead th {\n",
       "        text-align: right;\n",
       "    }\n",
       "</style>\n",
       "<table border=\"1\" class=\"dataframe\">\n",
       "  <thead>\n",
       "    <tr style=\"text-align: right;\">\n",
       "      <th></th>\n",
       "      <th>From</th>\n",
       "      <th>To</th>\n",
       "      <th>log_marginal_likelihood</th>\n",
       "      <th>lengthscale</th>\n",
       "      <th>variance</th>\n",
       "      <th>variance_n</th>\n",
       "    </tr>\n",
       "  </thead>\n",
       "  <tbody>\n",
       "    <tr>\n",
       "      <th>0</th>\n",
       "      <td>G1</td>\n",
       "      <td>G3</td>\n",
       "      <td>20.711921</td>\n",
       "      <td>0.499999</td>\n",
       "      <td>0.002117</td>\n",
       "      <td>0.000001</td>\n",
       "    </tr>\n",
       "    <tr>\n",
       "      <th>0</th>\n",
       "      <td>G2</td>\n",
       "      <td>G3</td>\n",
       "      <td>-5.706432</td>\n",
       "      <td>0.200005</td>\n",
       "      <td>1391.531420</td>\n",
       "      <td>0.300000</td>\n",
       "    </tr>\n",
       "  </tbody>\n",
       "</table>\n",
       "</div>"
      ],
      "text/plain": [
       "  From  To  log_marginal_likelihood  lengthscale     variance  variance_n\n",
       "0   G1  G3                20.711921     0.499999     0.002117    0.000001\n",
       "0   G2  G3                -5.706432     0.200005  1391.531420    0.300000"
      ]
     },
     "execution_count": 8,
     "metadata": {},
     "output_type": "execute_result"
    }
   ],
   "source": [
    "network"
   ]
  },
  {
   "cell_type": "code",
   "execution_count": null,
   "metadata": {},
   "outputs": [],
   "source": []
  }
 ],
 "metadata": {
  "kernelspec": {
   "display_name": "networks",
   "language": "python",
   "name": "python3"
  },
  "language_info": {
   "codemirror_mode": {
    "name": "ipython",
    "version": 3
   },
   "file_extension": ".py",
   "mimetype": "text/x-python",
   "name": "python",
   "nbconvert_exporter": "python",
   "pygments_lexer": "ipython3",
   "version": "3.10.12"
  }
 },
 "nbformat": 4,
 "nbformat_minor": 2
}
